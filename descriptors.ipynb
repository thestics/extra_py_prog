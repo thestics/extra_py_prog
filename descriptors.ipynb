{
 "cells": [
  {
   "cell_type": "markdown",
   "source": [
    "Приклад коду який контролює доступ до читання/запису полів обʼєкту класу"
   ],
   "metadata": {
    "collapsed": false
   },
   "id": "a030ca903def2010"
  },
  {
   "cell_type": "code",
   "execution_count": null,
   "outputs": [],
   "source": [
    "class Point:\n",
    "\n",
    "    def __init__(self, x, y):\n",
    "        self._x = x\n",
    "        self.__x = 1\n",
    "        self._y = y\n",
    "\n",
    "    @property\n",
    "    def x(self):\n",
    "        return 2*self._x\n",
    "\n",
    "    @x.setter\n",
    "    def x(self, v):\n",
    "        if v > 10:\n",
    "            raise Exception()\n",
    "        self._x = v"
   ],
   "metadata": {
    "collapsed": false
   },
   "id": "b8cbdbd64289fd91"
  },
  {
   "cell_type": "markdown",
   "source": [
    "Приклад коду, який реалізує деякий протокол. В даному випадку за протоколом словника\n",
    "клас має реалізувати метод `__iter__` який повертає пари значень. Ці пари будуть використані\n",
    "як ключ-значення"
   ],
   "metadata": {
    "collapsed": false
   },
   "id": "cebfe879e6251f71"
  },
  {
   "cell_type": "code",
   "execution_count": 2,
   "outputs": [],
   "source": [
    "class List:\n",
    "    ...\n",
    "\n",
    "    def __iter__(self):\n",
    "        return iter([])"
   ],
   "metadata": {
    "collapsed": false,
    "ExecuteTime": {
     "end_time": "2024-04-19T12:02:09.144703Z",
     "start_time": "2024-04-19T12:02:09.131393Z"
    }
   },
   "id": "9b5d8fe09e38bb17"
  },
  {
   "cell_type": "markdown",
   "source": [
    "Приклад дескриптора: класа який контролює доступ до аттрибута іншого класу"
   ],
   "metadata": {
    "collapsed": false
   },
   "id": "7a6936cacf95a99"
  },
  {
   "cell_type": "code",
   "execution_count": 5,
   "outputs": [],
   "source": [
    "class TestDescriptor:\n",
    "\n",
    "    def __set_name__(self, owner, name):\n",
    "        # set value in the target class by prefixing it with an underscore\n",
    "        self._name_used = f'_{name}' \n",
    "        \n",
    "        self._object_used = owner\n",
    "        print(owner, name)\n",
    "\n",
    "    def __get__(self, instance, owner):\n",
    "        print(instance, owner)\n",
    "        # get the value (notice that name used is the prefixed one)\n",
    "        return getattr(instance, self._name_used)\n",
    "\n",
    "    def __set__(self, instance, value):\n",
    "        print(instance, value)\n",
    "        # set the value (notice that name used is the prefixed one)\n",
    "        setattr(instance, self._name_used, value)"
   ],
   "metadata": {
    "collapsed": false,
    "ExecuteTime": {
     "end_time": "2024-04-19T12:12:13.984895Z",
     "start_time": "2024-04-19T12:12:13.981867Z"
    }
   },
   "id": "74af67b08967a156"
  },
  {
   "cell_type": "markdown",
   "source": [
    "Приклад дескриптора-валідатора, який обмежує простір можливих значень до значень типу `int`"
   ],
   "metadata": {
    "collapsed": false
   },
   "id": "88242755f5e267f"
  },
  {
   "cell_type": "code",
   "execution_count": 22,
   "outputs": [],
   "source": [
    "# create our own error type to make sure it can be deconflicted from other\n",
    "# errors by caller\n",
    "class ValidationError(Exception):\n",
    "    pass\n",
    "\n",
    "\n",
    "class Int:\n",
    "\n",
    "    def __init__(self, less_than: int = None, greater_then: int = None):\n",
    "        self._less_than = less_than\n",
    "        self._greater_than = greater_then\n",
    "\n",
    "    def __set_name__(self, owner, name):\n",
    "        self._name_used = f'_{name}'\n",
    "        self._object_used = owner\n",
    "\n",
    "    def __get__(self, instance, owner):\n",
    "        return getattr(instance, self._name_used)\n",
    "\n",
    "    def __set__(self, instance, value):\n",
    "        value_type = type(value)\n",
    "\n",
    "        if value_type is not int:\n",
    "            raise TypeError(\n",
    "                f'Invalid type assigned: '\n",
    "                f'received `{value_type}`, expected `int`'\n",
    "            )\n",
    "        if not (self._less_than < value < self._greater_than):\n",
    "            raise ValidationError(\n",
    "                f'Invalid value provided. Expected value in range '\n",
    "                f'{self._less_than} to {self._greater_than}'\n",
    "            )\n",
    "        \n",
    "        setattr(instance, self._name_used, value)"
   ],
   "metadata": {
    "collapsed": false,
    "ExecuteTime": {
     "end_time": "2024-04-19T12:25:04.251477Z",
     "start_time": "2024-04-19T12:25:04.248323Z"
    }
   },
   "id": "73c91cf88c2c90e8"
  },
  {
   "cell_type": "markdown",
   "source": [
    "Приклад використання цього дескриптора в іншому класі. \n",
    "Зверніть увагу на читаємість коду, зрозумілість, кількість і в одночас кількість роботи яку він виконує"
   ],
   "metadata": {
    "collapsed": false
   },
   "id": "e2a57a1337f9379b"
  },
  {
   "cell_type": "code",
   "execution_count": 23,
   "outputs": [],
   "source": [
    "class User:\n",
    "    age = Int(less_than=10, greater_then=20)\n",
    "    \n",
    "    def __init__(self, age):\n",
    "        # this is already a descriptor access, not a usual instance write\n",
    "        self.age = age\n",
    "    \n",
    "    def __repr__(self):\n",
    "        return f'User(age={self.age})'"
   ],
   "metadata": {
    "collapsed": false,
    "ExecuteTime": {
     "end_time": "2024-04-19T12:25:05.758967Z",
     "start_time": "2024-04-19T12:25:05.751341Z"
    }
   },
   "id": "fd72c2f090c46eb2"
  },
  {
   "cell_type": "code",
   "execution_count": 24,
   "outputs": [
    {
     "data": {
      "text/plain": "User(age=15)"
     },
     "execution_count": 24,
     "metadata": {},
     "output_type": "execute_result"
    }
   ],
   "source": [
    "User(15)"
   ],
   "metadata": {
    "collapsed": false,
    "ExecuteTime": {
     "end_time": "2024-04-19T12:25:06.338638Z",
     "start_time": "2024-04-19T12:25:06.336424Z"
    }
   },
   "id": "c8f561ed8e1ba1d4"
  },
  {
   "cell_type": "code",
   "execution_count": 25,
   "outputs": [
    {
     "ename": "ValidationError",
     "evalue": "Invalid value provided. Expected value in range 10 to 20",
     "output_type": "error",
     "traceback": [
      "\u001B[0;31m---------------------------------------------------------------------------\u001B[0m",
      "\u001B[0;31mValidationError\u001B[0m                           Traceback (most recent call last)",
      "Cell \u001B[0;32mIn[25], line 1\u001B[0m\n\u001B[0;32m----> 1\u001B[0m \u001B[43mUser\u001B[49m\u001B[43m(\u001B[49m\u001B[38;5;241;43m9\u001B[39;49m\u001B[43m)\u001B[49m\n",
      "Cell \u001B[0;32mIn[23], line 6\u001B[0m, in \u001B[0;36mUser.__init__\u001B[0;34m(self, age)\u001B[0m\n\u001B[1;32m      4\u001B[0m \u001B[38;5;28;01mdef\u001B[39;00m \u001B[38;5;21m__init__\u001B[39m(\u001B[38;5;28mself\u001B[39m, age):\n\u001B[1;32m      5\u001B[0m     \u001B[38;5;66;03m# this is already a descriptor access, not a usual instance write\u001B[39;00m\n\u001B[0;32m----> 6\u001B[0m     \u001B[38;5;28;43mself\u001B[39;49m\u001B[38;5;241;43m.\u001B[39;49m\u001B[43mage\u001B[49m \u001B[38;5;241m=\u001B[39m age\n",
      "Cell \u001B[0;32mIn[22], line 29\u001B[0m, in \u001B[0;36mInt.__set__\u001B[0;34m(self, instance, value)\u001B[0m\n\u001B[1;32m     24\u001B[0m     \u001B[38;5;28;01mraise\u001B[39;00m \u001B[38;5;167;01mTypeError\u001B[39;00m(\n\u001B[1;32m     25\u001B[0m         \u001B[38;5;124mf\u001B[39m\u001B[38;5;124m'\u001B[39m\u001B[38;5;124mInvalid type assigned: \u001B[39m\u001B[38;5;124m'\u001B[39m\n\u001B[1;32m     26\u001B[0m         \u001B[38;5;124mf\u001B[39m\u001B[38;5;124m'\u001B[39m\u001B[38;5;124mreceived `\u001B[39m\u001B[38;5;132;01m{\u001B[39;00mvalue_type\u001B[38;5;132;01m}\u001B[39;00m\u001B[38;5;124m`, expected `int`\u001B[39m\u001B[38;5;124m'\u001B[39m\n\u001B[1;32m     27\u001B[0m     )\n\u001B[1;32m     28\u001B[0m \u001B[38;5;28;01mif\u001B[39;00m \u001B[38;5;129;01mnot\u001B[39;00m (\u001B[38;5;28mself\u001B[39m\u001B[38;5;241m.\u001B[39m_less_than \u001B[38;5;241m<\u001B[39m value \u001B[38;5;241m<\u001B[39m \u001B[38;5;28mself\u001B[39m\u001B[38;5;241m.\u001B[39m_greater_than):\n\u001B[0;32m---> 29\u001B[0m     \u001B[38;5;28;01mraise\u001B[39;00m ValidationError(\n\u001B[1;32m     30\u001B[0m         \u001B[38;5;124mf\u001B[39m\u001B[38;5;124m'\u001B[39m\u001B[38;5;124mInvalid value provided. Expected value in range \u001B[39m\u001B[38;5;124m'\u001B[39m\n\u001B[1;32m     31\u001B[0m         \u001B[38;5;124mf\u001B[39m\u001B[38;5;124m'\u001B[39m\u001B[38;5;132;01m{\u001B[39;00m\u001B[38;5;28mself\u001B[39m\u001B[38;5;241m.\u001B[39m_less_than\u001B[38;5;132;01m}\u001B[39;00m\u001B[38;5;124m to \u001B[39m\u001B[38;5;132;01m{\u001B[39;00m\u001B[38;5;28mself\u001B[39m\u001B[38;5;241m.\u001B[39m_greater_than\u001B[38;5;132;01m}\u001B[39;00m\u001B[38;5;124m'\u001B[39m\n\u001B[1;32m     32\u001B[0m     )\n\u001B[1;32m     34\u001B[0m \u001B[38;5;28msetattr\u001B[39m(instance, \u001B[38;5;28mself\u001B[39m\u001B[38;5;241m.\u001B[39m_name_used, value)\n",
      "\u001B[0;31mValidationError\u001B[0m: Invalid value provided. Expected value in range 10 to 20"
     ]
    }
   ],
   "source": [
    "User(9)"
   ],
   "metadata": {
    "collapsed": false,
    "ExecuteTime": {
     "end_time": "2024-04-19T12:25:06.923954Z",
     "start_time": "2024-04-19T12:25:06.908573Z"
    }
   },
   "id": "80a46274791765c6"
  },
  {
   "cell_type": "code",
   "execution_count": 26,
   "outputs": [
    {
     "ename": "ValidationError",
     "evalue": "Invalid value provided. Expected value in range 10 to 20",
     "output_type": "error",
     "traceback": [
      "\u001B[0;31m---------------------------------------------------------------------------\u001B[0m",
      "\u001B[0;31mValidationError\u001B[0m                           Traceback (most recent call last)",
      "Cell \u001B[0;32mIn[26], line 1\u001B[0m\n\u001B[0;32m----> 1\u001B[0m \u001B[43mUser\u001B[49m\u001B[43m(\u001B[49m\u001B[38;5;241;43m25\u001B[39;49m\u001B[43m)\u001B[49m\n",
      "Cell \u001B[0;32mIn[23], line 6\u001B[0m, in \u001B[0;36mUser.__init__\u001B[0;34m(self, age)\u001B[0m\n\u001B[1;32m      4\u001B[0m \u001B[38;5;28;01mdef\u001B[39;00m \u001B[38;5;21m__init__\u001B[39m(\u001B[38;5;28mself\u001B[39m, age):\n\u001B[1;32m      5\u001B[0m     \u001B[38;5;66;03m# this is already a descriptor access, not a usual instance write\u001B[39;00m\n\u001B[0;32m----> 6\u001B[0m     \u001B[38;5;28;43mself\u001B[39;49m\u001B[38;5;241;43m.\u001B[39;49m\u001B[43mage\u001B[49m \u001B[38;5;241m=\u001B[39m age\n",
      "Cell \u001B[0;32mIn[22], line 29\u001B[0m, in \u001B[0;36mInt.__set__\u001B[0;34m(self, instance, value)\u001B[0m\n\u001B[1;32m     24\u001B[0m     \u001B[38;5;28;01mraise\u001B[39;00m \u001B[38;5;167;01mTypeError\u001B[39;00m(\n\u001B[1;32m     25\u001B[0m         \u001B[38;5;124mf\u001B[39m\u001B[38;5;124m'\u001B[39m\u001B[38;5;124mInvalid type assigned: \u001B[39m\u001B[38;5;124m'\u001B[39m\n\u001B[1;32m     26\u001B[0m         \u001B[38;5;124mf\u001B[39m\u001B[38;5;124m'\u001B[39m\u001B[38;5;124mreceived `\u001B[39m\u001B[38;5;132;01m{\u001B[39;00mvalue_type\u001B[38;5;132;01m}\u001B[39;00m\u001B[38;5;124m`, expected `int`\u001B[39m\u001B[38;5;124m'\u001B[39m\n\u001B[1;32m     27\u001B[0m     )\n\u001B[1;32m     28\u001B[0m \u001B[38;5;28;01mif\u001B[39;00m \u001B[38;5;129;01mnot\u001B[39;00m (\u001B[38;5;28mself\u001B[39m\u001B[38;5;241m.\u001B[39m_less_than \u001B[38;5;241m<\u001B[39m value \u001B[38;5;241m<\u001B[39m \u001B[38;5;28mself\u001B[39m\u001B[38;5;241m.\u001B[39m_greater_than):\n\u001B[0;32m---> 29\u001B[0m     \u001B[38;5;28;01mraise\u001B[39;00m ValidationError(\n\u001B[1;32m     30\u001B[0m         \u001B[38;5;124mf\u001B[39m\u001B[38;5;124m'\u001B[39m\u001B[38;5;124mInvalid value provided. Expected value in range \u001B[39m\u001B[38;5;124m'\u001B[39m\n\u001B[1;32m     31\u001B[0m         \u001B[38;5;124mf\u001B[39m\u001B[38;5;124m'\u001B[39m\u001B[38;5;132;01m{\u001B[39;00m\u001B[38;5;28mself\u001B[39m\u001B[38;5;241m.\u001B[39m_less_than\u001B[38;5;132;01m}\u001B[39;00m\u001B[38;5;124m to \u001B[39m\u001B[38;5;132;01m{\u001B[39;00m\u001B[38;5;28mself\u001B[39m\u001B[38;5;241m.\u001B[39m_greater_than\u001B[38;5;132;01m}\u001B[39;00m\u001B[38;5;124m'\u001B[39m\n\u001B[1;32m     32\u001B[0m     )\n\u001B[1;32m     34\u001B[0m \u001B[38;5;28msetattr\u001B[39m(instance, \u001B[38;5;28mself\u001B[39m\u001B[38;5;241m.\u001B[39m_name_used, value)\n",
      "\u001B[0;31mValidationError\u001B[0m: Invalid value provided. Expected value in range 10 to 20"
     ]
    }
   ],
   "source": [
    "User(25)"
   ],
   "metadata": {
    "collapsed": false,
    "ExecuteTime": {
     "end_time": "2024-04-19T12:25:14.824542Z",
     "start_time": "2024-04-19T12:25:14.793304Z"
    }
   },
   "id": "b7eb80ca6162779b"
  },
  {
   "cell_type": "markdown",
   "source": [
    "Приклад того, як можна використовуючи аннотації коду отримати інформацію про типи, які очікує функція"
   ],
   "metadata": {
    "collapsed": false
   },
   "id": "fce4967c0e3f8d7a"
  },
  {
   "cell_type": "code",
   "execution_count": 27,
   "outputs": [
    {
     "data": {
      "text/plain": "{'a': int, 'b': int, 'return': int}"
     },
     "execution_count": 27,
     "metadata": {},
     "output_type": "execute_result"
    }
   ],
   "source": [
    "def plus(a: int, b: int) -> int:\n",
    "    return a + b\n",
    "\n",
    "\n",
    "plus.__annotations__"
   ],
   "metadata": {
    "collapsed": false,
    "ExecuteTime": {
     "end_time": "2024-04-19T12:27:55.423756Z",
     "start_time": "2024-04-19T12:27:55.412933Z"
    }
   },
   "id": "2d67110fd23f781b"
  },
  {
   "cell_type": "markdown",
   "source": [
    "Приклад застосування: Object-Relational Mapping\n",
    "[Означення ORM](https://en.wikipedia.org/wiki/Object%E2%80%93relational_mapping)"
   ],
   "metadata": {
    "collapsed": false
   },
   "id": "12ef2bde5d109952"
  },
  {
   "cell_type": "code",
   "execution_count": 28,
   "outputs": [],
   "source": [
    "import sqlite3\n",
    "\n",
    "# connection object which allows one to request and receive responses from the database\n",
    "conn = sqlite3.connect('entertainment.db')\n",
    "\n",
    "\n",
    "class Field:\n",
    "\n",
    "    def __set_name__(self, owner, name):\n",
    "        # query to fetch value\n",
    "        self.fetch = f'SELECT {name} FROM {owner.table} WHERE {owner.key}=?;'\n",
    "        # query to store value\n",
    "        self.store = f'UPDATE {owner.table} SET {name}=? WHERE {owner.key}=?;'\n",
    "\n",
    "    def __get__(self, obj, objtype=None):\n",
    "        # on get issue a request to the database to get first value from a certain table\n",
    "        return conn.execute(self.fetch, [obj.key]).fetchone()[0]\n",
    "\n",
    "    def __set__(self, obj, value):\n",
    "        # on set issue a request to the database to set value of a field in the database\n",
    "        conn.execute(self.store, [value, obj.key])\n",
    "        conn.commit()\n",
    "\n",
    "\n",
    "# define some tables\n",
    "class Movie:\n",
    "     # Table name\n",
    "    table = 'Movies'                   \n",
    "    # Primary key\n",
    "    key = 'title'\n",
    "    director = Field()\n",
    "    year = Field()\n",
    "\n",
    "    def __init__(self, key):\n",
    "        self.key = key\n",
    "\n",
    "class Song:\n",
    "    table = 'Music'\n",
    "    key = 'title'\n",
    "    artist = Field()\n",
    "    year = Field()\n",
    "    genre = Field()\n",
    "\n",
    "    def __init__(self, key):\n",
    "        self.key = key"
   ],
   "metadata": {
    "collapsed": false,
    "ExecuteTime": {
     "end_time": "2024-04-19T12:43:08.854065Z",
     "start_time": "2024-04-19T12:43:08.825057Z"
    }
   },
   "id": "52ce8976173e9003"
  },
  {
   "cell_type": "markdown",
   "source": [
    "Перед тим як можна застосувати ці таблиці треба створити схему в базі даних.\n",
    "В справжніх ORM це робиться через метакласи та метапрограмування. Наприклад створюється метаклас\n",
    "який відслідковує які класи створені від нього, генерує DML запит (той що змінює схему а не додає дані).\n",
    "\n",
    "Задля простоти цього прикладу створимо схему самостійно"
   ],
   "metadata": {
    "collapsed": false
   },
   "id": "b6532179229dd921"
  },
  {
   "cell_type": "code",
   "execution_count": 33,
   "outputs": [
    {
     "data": {
      "text/plain": "<sqlite3.Cursor at 0x1113cb1c0>"
     },
     "execution_count": 33,
     "metadata": {},
     "output_type": "execute_result"
    }
   ],
   "source": [
    "conn.execute(\n",
    "    \"\"\"CREATE TABLE Movies (\n",
    "        title varchar(32) primary key,\n",
    "        director varchar(32),\n",
    "        year year\n",
    "    );\n",
    "    \"\"\"\n",
    ")"
   ],
   "metadata": {
    "collapsed": false,
    "ExecuteTime": {
     "end_time": "2024-04-19T12:48:51.604249Z",
     "start_time": "2024-04-19T12:48:51.596100Z"
    }
   },
   "id": "6283c061a9f02d0"
  },
  {
   "cell_type": "code",
   "execution_count": 34,
   "outputs": [
    {
     "data": {
      "text/plain": "<sqlite3.Cursor at 0x1113cb6c0>"
     },
     "execution_count": 34,
     "metadata": {},
     "output_type": "execute_result"
    }
   ],
   "source": [
    "conn.execute(\n",
    "    \"\"\"CREATE TABLE Music (\n",
    "        title varchar(32) primary key,\n",
    "        artist varchar(32),\n",
    "        year year,\n",
    "        genre varchar(32)\n",
    "    );\n",
    "    \"\"\"\n",
    ")"
   ],
   "metadata": {
    "collapsed": false,
    "ExecuteTime": {
     "end_time": "2024-04-19T12:49:24.450513Z",
     "start_time": "2024-04-19T12:49:24.443249Z"
    }
   },
   "id": "234b7679875b3662"
  },
  {
   "cell_type": "code",
   "execution_count": 40,
   "outputs": [
    {
     "data": {
      "text/plain": "<sqlite3.Cursor at 0x111414ac0>"
     },
     "execution_count": 40,
     "metadata": {},
     "output_type": "execute_result"
    }
   ],
   "source": [
    "conn.execute(\n",
    "    \"\"\"insert into Movies values ('Star Wars', 'George Lucas', 1967)\"\"\"\n",
    ")"
   ],
   "metadata": {
    "collapsed": false,
    "ExecuteTime": {
     "end_time": "2024-04-19T12:52:20.405390Z",
     "start_time": "2024-04-19T12:52:20.402541Z"
    }
   },
   "id": "4a1acfd6c293061f"
  },
  {
   "cell_type": "code",
   "execution_count": 47,
   "outputs": [
    {
     "data": {
      "text/plain": "[('Star Wars', 'George Lucas', 1967)]"
     },
     "execution_count": 47,
     "metadata": {},
     "output_type": "execute_result"
    }
   ],
   "source": [
    "conn.execute(\n",
    "    \"select * from Movies\"\n",
    ").fetchall()"
   ],
   "metadata": {
    "collapsed": false,
    "ExecuteTime": {
     "end_time": "2024-04-19T12:53:23.070496Z",
     "start_time": "2024-04-19T12:53:23.058633Z"
    }
   },
   "id": "571e761dc57a7d7e"
  },
  {
   "cell_type": "code",
   "execution_count": 48,
   "outputs": [],
   "source": [
    "Movie('Star Wars').director = 'George Orwell'"
   ],
   "metadata": {
    "collapsed": false,
    "ExecuteTime": {
     "end_time": "2024-04-19T12:53:26.691090Z",
     "start_time": "2024-04-19T12:53:26.686917Z"
    }
   },
   "id": "e3677dc67230abea"
  },
  {
   "cell_type": "code",
   "execution_count": 49,
   "outputs": [
    {
     "data": {
      "text/plain": "[('Star Wars', 'George Orwell', 1967)]"
     },
     "execution_count": 49,
     "metadata": {},
     "output_type": "execute_result"
    }
   ],
   "source": [
    "conn.execute(\n",
    "    \"select * from Movies\"\n",
    ").fetchall()"
   ],
   "metadata": {
    "collapsed": false,
    "ExecuteTime": {
     "end_time": "2024-04-19T12:53:27.672496Z",
     "start_time": "2024-04-19T12:53:27.663173Z"
    }
   },
   "id": "e1acf1d2fcb8acc6"
  },
  {
   "cell_type": "markdown",
   "source": [
    "Виставивши значення аттрибута в обʼєкті ми під капотом створили запит в базу даних і поміняли відповідне значеня. \n",
    "Очевидно, що приклад далеко не є вичерпним (напр. немає підтримки `primary key`) але ціль цього \n",
    "приклада -- проілюструвати підхід"
   ],
   "metadata": {
    "collapsed": false
   },
   "id": "5155d8d1dada340f"
  },
  {
   "cell_type": "markdown",
   "source": [
    "Приклад: імплементувати дескриптор, який буде імітувати поведінку `@property` а саме:\n",
    "  - дозволить створювати методи які будуть генерувати значення аттрибута \"на льоту\"\n",
    "  - дозволить додавати методи для модифікації цих атрибутів\n",
    "  - дозволить додавати методи для видалення цих атрибутів "
   ],
   "metadata": {
    "collapsed": false
   },
   "id": "d994589e3db669a3"
  },
  {
   "cell_type": "code",
   "execution_count": 51,
   "outputs": [],
   "source": [
    "class Property:\n",
    "    \"Emulate PyProperty_Type() in Objects/descrobject.c\"\n",
    "\n",
    "    def __init__(self, fget=None, fset=None, fdel=None, doc=None):\n",
    "        # functions that implement getting, setting and deleting certain attribute\n",
    "        self.fget = fget\n",
    "        self.fset = fset\n",
    "        self.fdel = fdel\n",
    "\n",
    "        if doc is None and fget is not None:\n",
    "            doc = fget.__doc__\n",
    "        self.__doc__ = doc\n",
    "        self._name = ''\n",
    "\n",
    "    def __set_name__(self, owner, name):\n",
    "        self._name = name\n",
    "\n",
    "    def __get__(self, obj, objtype=None):\n",
    "        # if called from class, nothing to generate then return property object itself\n",
    "        if obj is None:\n",
    "            return self\n",
    "        \n",
    "        # else, if getter is not set raise an error\n",
    "        if self.fget is None:\n",
    "            raise AttributeError(\n",
    "                f'property {self._name!r} of {type(obj).__name__!r} object has no getter'\n",
    "             )\n",
    "        # else -- call getter, i.e. call a function that \n",
    "        # would generate a value of an attribute\n",
    "        return self.fget(obj)\n",
    "\n",
    "    def __set__(self, obj, value):\n",
    "        # if no setter defined -- raise an error\n",
    "        if self.fset is None:\n",
    "            raise AttributeError(\n",
    "                f'property {self._name!r} of {type(obj).__name__!r} object has no setter'\n",
    "             )\n",
    "        # call setter\n",
    "        self.fset(obj, value)\n",
    "\n",
    "    def __delete__(self, obj):\n",
    "        # if no deleter defined -- raise an error\n",
    "        if self.fdel is None:\n",
    "            raise AttributeError(\n",
    "                f'property {self._name!r} of {type(obj).__name__!r} object has no deleter'\n",
    "             )\n",
    "        # call deleter\n",
    "        self.fdel(obj)\n",
    "\n",
    "    def getter(self, fget):\n",
    "        \"\"\"Function to register getter\"\"\"\n",
    "        # create a copy of current instance of class, replace existing **getter** with provided one\n",
    "        # NOTE: this method can be used as decorator, since it accepts function as a single argument\n",
    "        prop = type(self)(fget, self.fset, self.fdel, self.__doc__)\n",
    "        prop._name = self._name\n",
    "        return prop\n",
    "\n",
    "    def setter(self, fset):\n",
    "        # create a copy of current instance of class, replace existing **setter** with provided one\n",
    "        # NOTE: this method can be used as decorator, since it accepts function as a single argument\n",
    "        prop = type(self)(self.fget, fset, self.fdel, self.__doc__)\n",
    "        prop._name = self._name\n",
    "        return prop\n",
    "\n",
    "    def deleter(self, fdel):\n",
    "        # create a copy of current instance of class, replace existing **deleter** with provided one\n",
    "        # NOTE: this method can be used as decorator, since it accepts function as a single argument\n",
    "        prop = type(self)(self.fget, self.fset, fdel, self.__doc__)\n",
    "        prop._name = self._name\n",
    "        return prop"
   ],
   "metadata": {
    "collapsed": false,
    "ExecuteTime": {
     "end_time": "2024-04-19T13:01:30.904958Z",
     "start_time": "2024-04-19T13:01:30.903131Z"
    }
   },
   "id": "d8fbd6f0fb3eaa9e"
  },
  {
   "cell_type": "code",
   "execution_count": 63,
   "outputs": [],
   "source": [
    "class PropertyExample:\n",
    "    \n",
    "    def __init__(self, value):\n",
    "        self._value = value\n",
    "    \n",
    "    # NOTE: looking back at the signature of the `__init__` method\n",
    "    # one can notice that first argument is `fget` which is optional.\n",
    "    # that means that the next descriptor syntax is equivalent to the following:\n",
    "    # Property(fset=value)\n",
    "    @Property\n",
    "    def value(self):\n",
    "        print('getter called')\n",
    "        return 1\n",
    "    \n",
    "    @value.setter\n",
    "    def value(self, value):\n",
    "        print('setter called')\n",
    "        self.foo = value"
   ],
   "metadata": {
    "collapsed": false,
    "ExecuteTime": {
     "end_time": "2024-04-19T13:05:46.035231Z",
     "start_time": "2024-04-19T13:05:46.028384Z"
    }
   },
   "id": "e0de51ee0317a5ef"
  },
  {
   "cell_type": "code",
   "execution_count": 59,
   "outputs": [],
   "source": [
    "s = PropertyExample(value=1)"
   ],
   "metadata": {
    "collapsed": false,
    "ExecuteTime": {
     "end_time": "2024-04-19T13:04:29.456482Z",
     "start_time": "2024-04-19T13:04:29.444718Z"
    }
   },
   "id": "1bd3edde1d85ec97"
  },
  {
   "cell_type": "code",
   "execution_count": 60,
   "outputs": [
    {
     "name": "stdout",
     "output_type": "stream",
     "text": [
      "getter called\n"
     ]
    },
    {
     "data": {
      "text/plain": "1"
     },
     "execution_count": 60,
     "metadata": {},
     "output_type": "execute_result"
    }
   ],
   "source": [
    "s.value"
   ],
   "metadata": {
    "collapsed": false,
    "ExecuteTime": {
     "end_time": "2024-04-19T13:04:30.303011Z",
     "start_time": "2024-04-19T13:04:30.292520Z"
    }
   },
   "id": "67512f58875fe2f3"
  },
  {
   "cell_type": "code",
   "execution_count": 61,
   "outputs": [
    {
     "name": "stdout",
     "output_type": "stream",
     "text": [
      "setter called\n"
     ]
    }
   ],
   "source": [
    "s.value = 2"
   ],
   "metadata": {
    "collapsed": false,
    "ExecuteTime": {
     "end_time": "2024-04-19T13:04:36.585351Z",
     "start_time": "2024-04-19T13:04:36.561485Z"
    }
   },
   "id": "e9dbc373695bf61f"
  },
  {
   "cell_type": "code",
   "execution_count": 62,
   "outputs": [
    {
     "name": "stdout",
     "output_type": "stream",
     "text": [
      "getter called\n"
     ]
    },
    {
     "data": {
      "text/plain": "1"
     },
     "execution_count": 62,
     "metadata": {},
     "output_type": "execute_result"
    }
   ],
   "source": [
    "s.value"
   ],
   "metadata": {
    "collapsed": false,
    "ExecuteTime": {
     "end_time": "2024-04-19T13:04:38.918098Z",
     "start_time": "2024-04-19T13:04:38.873271Z"
    }
   },
   "id": "d7cbf903d8da7b3e"
  },
  {
   "cell_type": "markdown",
   "source": [
    "REFERENCES:\n",
    "- [Python docs, full HOWTO on descriptors](https://docs.python.org/3/howto/descriptor.html)\n",
    "- [Some random blog post](https://blog.peterlamut.com/2018/11/04/python-attribute-lookup-explained-in-detail/)"
   ],
   "metadata": {
    "collapsed": false
   },
   "id": "d8dfe308f27b3227"
  },
  {
   "cell_type": "code",
   "execution_count": null,
   "outputs": [],
   "source": [],
   "metadata": {
    "collapsed": false
   },
   "id": "f2d7b6855d8f048f"
  }
 ],
 "metadata": {
  "kernelspec": {
   "display_name": "Python 3",
   "language": "python",
   "name": "python3"
  },
  "language_info": {
   "codemirror_mode": {
    "name": "ipython",
    "version": 2
   },
   "file_extension": ".py",
   "mimetype": "text/x-python",
   "name": "python",
   "nbconvert_exporter": "python",
   "pygments_lexer": "ipython2",
   "version": "2.7.6"
  }
 },
 "nbformat": 4,
 "nbformat_minor": 5
}
